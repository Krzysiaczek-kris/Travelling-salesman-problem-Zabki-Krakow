{
 "cells": [
  {
   "cell_type": "code",
   "execution_count": 4,
   "metadata": {},
   "outputs": [],
   "source": [
    "import numpy as np\n",
    "import matplotlib.pyplot as plt\n",
    "import seaborn as sns\n",
    "import networkx as nx"
   ]
  },
  {
   "cell_type": "code",
   "execution_count": 5,
   "metadata": {},
   "outputs": [],
   "source": [
    "distances = np.load('data/distance_matrix.npy')\n",
    "\n",
    "G = nx.Graph()\n",
    "for i in range(len(distances)):\n",
    "    for j in range(i+1, len(distances)):\n",
    "        G.add_edge(i, j, weight=distances[i][j])"
   ]
  },
  {
   "cell_type": "code",
   "execution_count": 6,
   "metadata": {},
   "outputs": [
    {
     "name": "stdout",
     "output_type": "stream",
     "text": [
      "Shortest path length: 396.43231 km\n"
     ]
    }
   ],
   "source": [
    "from networkx.algorithms.approximation import traveling_salesman_problem\n",
    "from networkx.utils import pairwise\n",
    "\n",
    "best_path = traveling_salesman_problem(G, cycle = False)\n",
    "best_path = list(pairwise(best_path))\n",
    "best_path.append((best_path[-1][1], best_path[0][0]))\n",
    "\n",
    "distance = 0\n",
    "for i, j in best_path:\n",
    "    distance += distances[i][j]\n",
    "print(\"Shortest path length:\", round(distance/1000, 5), \"km\")"
   ]
  }
 ],
 "metadata": {
  "kernelspec": {
   "display_name": "Python 3",
   "language": "python",
   "name": "python3"
  },
  "language_info": {
   "codemirror_mode": {
    "name": "ipython",
    "version": 3
   },
   "file_extension": ".py",
   "mimetype": "text/x-python",
   "name": "python",
   "nbconvert_exporter": "python",
   "pygments_lexer": "ipython3",
   "version": "3.12.8"
  }
 },
 "nbformat": 4,
 "nbformat_minor": 2
}
