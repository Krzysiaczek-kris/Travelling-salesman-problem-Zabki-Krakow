{
 "cells": [
  {
   "cell_type": "code",
   "execution_count": 1,
   "metadata": {},
   "outputs": [],
   "source": [
    "import geopandas as gpd\n",
    "from shapely.geometry import Point\n",
    "from tqdm import tqdm\n",
    "import pandas as pd\n",
    "from scipy.spatial import cKDTree\n",
    "import numpy as np\n",
    "from geopy.distance import geodesic"
   ]
  },
  {
   "cell_type": "code",
   "execution_count": 2,
   "metadata": {},
   "outputs": [],
   "source": [
    "gdf_streets = gpd.read_file('data/Streets_Krakow.shp')\n",
    "gdf_zabki = gpd.read_file('data/Zabki_Krakow.geojson')\n",
    "\n",
    "gdf_streets.to_crs(epsg=4326, inplace=True)\n",
    "gdf_zabki.to_crs(epsg=4326, inplace=True)"
   ]
  },
  {
   "cell_type": "code",
   "execution_count": 3,
   "metadata": {},
   "outputs": [],
   "source": [
    "gdf_streets_exploded = gdf_streets.explode(index_parts=False)\n",
    "\n",
    "all_street_points = gdf_streets_exploded.geometry.apply(lambda geom: [Point(coord) for coord in geom.coords])\n",
    "\n",
    "all_street_points = [point for sublist in all_street_points for point in sublist]\n",
    "\n",
    "gdf_street_points = gpd.GeoDataFrame(geometry=all_street_points)\n",
    "\n",
    "street_points_tree = cKDTree(np.array(list(zip(gdf_street_points.geometry.x, gdf_street_points.geometry.y))))\n",
    "\n",
    "def find_nearest(row, street_points_tree, gdf_street_points):\n",
    "    point = row.geometry\n",
    "    dist, idx = street_points_tree.query([point.x, point.y], k=1)\n",
    "    nearest_point = gdf_street_points.iloc[idx].geometry\n",
    "    distance = geodesic((point.y, point.x), (nearest_point.y, nearest_point.x)).meters\n",
    "    return pd.Series({'street': row['street'], 'distance': distance, 'geometry': nearest_point})\n",
    "\n",
    "gdf_nearest_points = gdf_zabki.apply(find_nearest, axis=1, street_points_tree=street_points_tree, gdf_street_points=gdf_street_points)\n",
    "\n",
    "gdf_nearest_points = gpd.GeoDataFrame(gdf_nearest_points)\n",
    "gdf_nearest_points.to_file('data/Nearest_points.geojson', driver='GeoJSON')\n"
   ]
  }
 ],
 "metadata": {
  "kernelspec": {
   "display_name": "Python 3",
   "language": "python",
   "name": "python3"
  },
  "language_info": {
   "codemirror_mode": {
    "name": "ipython",
    "version": 3
   },
   "file_extension": ".py",
   "mimetype": "text/x-python",
   "name": "python",
   "nbconvert_exporter": "python",
   "pygments_lexer": "ipython3",
   "version": "3.12.8"
  }
 },
 "nbformat": 4,
 "nbformat_minor": 2
}
